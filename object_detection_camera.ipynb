{
  "cells": [
    {
      "cell_type": "code",
      "execution_count": 1,
      "source": [
        "import os"
      ],
      "outputs": [],
      "metadata": {
        "collapsed": false
      }
    },
    {
      "cell_type": "code",
      "execution_count": 2,
      "source": [
        "import tarfile\r\n",
        "import urllib.request\r\n",
        "\r\n",
        "\r\n",
        "#MODEL MADE WITH YOLO AND TENSORFLOW TRAINING, HACK OF A DATASET THAT WORKS LOL\r\n",
        "PATH_TO_LABELS = './data/mscoco_label_map.pbtxt'\r\n",
        "MODELS_DIR = './model'\r\n",
        "PATH_TO_CKPT = os.path.join(MODELS_DIR, 'checkpoint')\r\n",
        "PATH_TO_CFG = os.path.join(MODELS_DIR, 'pipeline.config')"
      ],
      "outputs": [],
      "metadata": {
        "collapsed": false
      }
    },
    {
      "cell_type": "code",
      "execution_count": 3,
      "source": [
        "import tensorflow as tf\r\n",
        "from object_detection.utils import label_map_util\r\n",
        "from object_detection.utils import config_util\r\n",
        "from object_detection.utils import visualization_utils as viz_utils\r\n",
        "from object_detection.builders import model_builder"
      ],
      "outputs": [],
      "metadata": {}
    },
    {
      "cell_type": "code",
      "execution_count": 4,
      "source": [
        "# Enable GPU dynamic memory allocation\r\n",
        "gpus = tf.config.experimental.list_physical_devices('GPU')\r\n",
        "for gpu in gpus:\r\n",
        "    tf.config.experimental.set_memory_growth(gpu, True)\r\n",
        "\r\n",
        "# Enable GPU dynamic memory allocation\r\n",
        "gpus = tf.config.experimental.list_physical_devices('GPU')\r\n",
        "for gpu in gpus:\r\n",
        "    tf.config.experimental.set_memory_growth(gpu, True)"
      ],
      "outputs": [],
      "metadata": {}
    },
    {
      "cell_type": "code",
      "execution_count": 5,
      "source": [
        "# Load pipeline config and build a detection model\r\n",
        "configs = config_util.get_configs_from_pipeline_file(PATH_TO_CFG)\r\n",
        "model_config = configs['model']\r\n",
        "detection_model = model_builder.build(model_config=model_config, is_training=False)\r\n",
        "\r\n",
        "# Restore checkpoint\r\n",
        "ckpt = tf.compat.v2.train.Checkpoint(model=detection_model)\r\n",
        "ckpt.restore(os.path.join(PATH_TO_CKPT, 'ckpt-301')).expect_partial()"
      ],
      "outputs": [
        {
          "output_type": "stream",
          "name": "stdout",
          "text": [
            "WARNING:tensorflow:`input_shape` is undefined or non-square, or `rows` is not in [96, 128, 160, 192, 224]. Weights for input shape (224, 224) will be loaded as the default.\n"
          ]
        },
        {
          "output_type": "execute_result",
          "data": {
            "text/plain": [
              "<tensorflow.python.training.tracking.util.CheckpointLoadStatus at 0x22f30439730>"
            ]
          },
          "metadata": {},
          "execution_count": 5
        }
      ],
      "metadata": {}
    },
    {
      "cell_type": "code",
      "execution_count": 6,
      "source": [
        "@tf.function\r\n",
        "def detect_fn(image):\r\n",
        "    # Detect objects in image.\r\n",
        "\r\n",
        "    image, shapes = detection_model.preprocess(image)\r\n",
        "    prediction_dict = detection_model.predict(image, shapes)\r\n",
        "    detections = detection_model.postprocess(prediction_dict, shapes)\r\n",
        "    return detections, prediction_dict, tf.reshape(shapes, [-1])"
      ],
      "outputs": [],
      "metadata": {}
    },
    {
      "cell_type": "code",
      "execution_count": 7,
      "source": [
        "category_index = label_map_util.create_category_index_from_labelmap(PATH_TO_LABELS,\r\n",
        "                                                                    use_display_name=True)"
      ],
      "outputs": [],
      "metadata": {
        "collapsed": false
      }
    },
    {
      "cell_type": "code",
      "execution_count": 8,
      "source": [
        "import cv2\r\n",
        "cap = cv2.VideoCapture(0)"
      ],
      "outputs": [],
      "metadata": {
        "collapsed": false
      }
    },
    {
      "cell_type": "code",
      "execution_count": 9,
      "source": [
        "import numpy as np\r\n",
        "\r\n",
        "video = cv2.VideoWriter(\"after_recog.mp4\", cv2.VideoWriter_fourcc(*'MP4V'), 23, (640, 480)) #*'X264'\r\n",
        "\r\n",
        "while True:\r\n",
        "    ret, image_np = cap.read()\r\n",
        "    image_np_expanded = np.expand_dims(image_np, axis=0)\r\n",
        "\r\n",
        "    #GOD I REALLY FUCKING HOPE THIS TENSOR WORKS WITH THIS HACK OF A DATASET\r\n",
        "\r\n",
        "    input_tensor = tf.convert_to_tensor(np.expand_dims(image_np, 0), dtype=tf.float32)\r\n",
        "    detections, predictions_dict, shapes = detect_fn(input_tensor)\r\n",
        "\r\n",
        "    label_id_offset = 1\r\n",
        "    image_np_with_detections = image_np.copy()\r\n",
        "\r\n",
        "    viz_utils.visualize_boxes_and_labels_on_image_array(\r\n",
        "          image_np_with_detections,\r\n",
        "          detections['detection_boxes'][0].numpy(),\r\n",
        "          (detections['detection_classes'][0].numpy() + label_id_offset).astype(int),\r\n",
        "          detections['detection_scores'][0].numpy(),\r\n",
        "          category_index,\r\n",
        "          use_normalized_coordinates=True,\r\n",
        "          max_boxes_to_draw=500,\r\n",
        "          min_score_thresh=.20,\r\n",
        "          agnostic_mode=False)\r\n",
        "\r\n",
        "    # Display output\r\n",
        "    cv2.imshow('object detection', cv2.resize(image_np_with_detections, (640, 480)))\r\n",
        "\r\n",
        "    video.write(image_np_with_detections)\r\n",
        "\r\n",
        "    if cv2.waitKey(25) & 0xFF == ord('q'):\r\n",
        "        break\r\n",
        "    \r\n",
        "video.release() \r\n",
        "cap.release()\r\n",
        "cv2.destroyAllWindows()"
      ],
      "outputs": [
        {
          "output_type": "stream",
          "name": "stdout",
          "text": [
            "WARNING:tensorflow:From P:\\Program Files\\Python38\\lib\\site-packages\\tensorflow\\python\\autograph\\impl\\api.py:464: to_int32 (from tensorflow.python.ops.math_ops) is deprecated and will be removed in a future version.\n",
            "Instructions for updating:\n",
            "Use `tf.cast` instead.\n"
          ]
        }
      ],
      "metadata": {
        "collapsed": false
      }
    },
    {
      "cell_type": "code",
      "execution_count": null,
      "source": [],
      "outputs": [],
      "metadata": {}
    }
  ],
  "metadata": {
    "kernelspec": {
      "name": "python3",
      "display_name": "Python 3.8.10 64-bit"
    },
    "language_info": {
      "codemirror_mode": {
        "name": "ipython",
        "version": 3
      },
      "file_extension": ".py",
      "mimetype": "text/x-python",
      "name": "python",
      "nbconvert_exporter": "python",
      "pygments_lexer": "ipython3",
      "version": "3.8.10"
    },
    "metadata": {
      "interpreter": {
        "hash": "6d7472e1dbc4e7778199c625a075d905b3aa83c8096c5e0ed336ff7e06418f4a"
      }
    },
    "interpreter": {
      "hash": "6d7472e1dbc4e7778199c625a075d905b3aa83c8096c5e0ed336ff7e06418f4a"
    }
  },
  "nbformat": 4,
  "nbformat_minor": 2
}